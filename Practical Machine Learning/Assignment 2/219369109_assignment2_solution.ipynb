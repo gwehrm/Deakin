{
 "cells": [
  {
   "cell_type": "markdown",
   "metadata": {},
   "source": [
    "----\n",
    "\n",
    "### <span style=\"color:#0b486b\">SIT744 Practical Machine Learning for Data Science</span>\n",
    "\n",
    "\n",
    "---"
   ]
  },
  {
   "cell_type": "markdown",
   "metadata": {},
   "source": [
    "\n",
    "# <span style=\"color:#0b486b\">Assignment Two: Deep Neural Networks, Representation Learning, and Text Analytics</span>\n",
    "### Due: <span style=\"color:red\">24:00pm 24 September 2019</span>  (Tuesday)\n",
    "\n",
    "#### <span style=\"color:red\">Important note:</span> This is an **individual** assignment. It contributes **40%** to your final mark. Read the assignment instruction carefully."
   ]
  },
  {
   "cell_type": "markdown",
   "metadata": {},
   "source": [
    "This notebook has been prepared for your to complete Assignment 2. The theme of this assignment is about practical machine learning knowledge and skills in deep neural networks, word embedding and text analytics. Some sections have been partially completed to help you get\n",
    "started. **The total marks for this notebook are 80 marks, which will be re-scaled to 40 marks in the grade.**.\n",
    "\n",
    "* Before you start, read the entire notebook carefully once to understand what you need to do. <br><br>\n",
    "\n",
    "* For each cell marked with **#YOU ARE REQUIRED TO INSERT YOUR CODES IN THIS CELL**, there will be places where you **must** supply your own codes when instructed. <br>"
   ]
  },
  {
   "cell_type": "markdown",
   "metadata": {},
   "source": [
    "\n",
    "\n",
    "\n",
    "\n",
    "\n",
    "\n",
    "\n",
    "\n",
    "# To do:\n",
    "\n",
    "\n",
    "\n",
    "\n",
    "\n",
    "\n",
    "\n",
    "\n",
    "\n",
    "\n",
    "\n"
   ]
  },
  {
   "cell_type": "markdown",
   "metadata": {},
   "source": [
    "## <span style=\"color:#0b486b\">Instruction</span>\n",
    "\n",
    "This assignment contains **two** parts \n",
    "\n",
    "* Part 1: Deep Feedforward Neural Network **[45 points]**\n",
    "* Part 2: Word2Vec, text analytics and application **[35 points]**\n",
    "\n",
    "**Hint**: This assignment was essentially designed based on the lectures and practical lab sessions covered from Week 5 to 9. You are strongly recommended to go through these contents thoroughly which might help you to complete this assignment."
   ]
  },
  {
   "cell_type": "markdown",
   "metadata": {},
   "source": [
    "## <span style=\"color:#0b486b\">What to submit</span>\n",
    "\n",
    "This assignment is to be completed individually and submitted to CloudDeakin. **By the due date, you are required to submit the following files to the corresponding Assignment in CloudDeakin**:\n",
    "\n",
    "1.\t<span style=\"color:red\">**[YourID]_assignment2_solution.ipynp**</span>:  **this is your Python notebook solution source file**.\n",
    "1.\t<span style=\"color:red\">**[YourID]_assingment2_output.html**</span>: **this is the output of your Python notebook solution *exported* in html format**.\n",
    "1.\t<span style=\"color:red\">Any extra files needed to complete your assignment</span> (e.g., images used in your answers).\n",
    "\n",
    "For example, if your student ID is: 123456, you will then need to submit the following files:\n",
    "* 123456_assignment2_solution.ipynp\n",
    "* 123456_assignment2_output.html\n",
    "* any extra files or subfolder you might have (this can be named according to your preference).\n",
    "\n",
    "<span style=\"color:red\">Please proceed to the content below to complete your assignment!</span>"
   ]
  },
  {
   "cell_type": "markdown",
   "metadata": {},
   "source": [
    "## <span style=\"color:#0b486b\">Part 1: Deep Feedforward Neural Network </span>\n",
    "<div style=\"text-align: right\"><span style=\"color:red\">**[Total mark for this part: 45 points]**<span></div>\n",
    "\n",
    "The first part of this assignment is for you to demonstrate the knowledge in deep learning that you have acquired from the lectures and practical lab materials. Most of the contents in this assignment are drawn from the practical materials in week 5, 6 and 7 for deep neural networks. Going through these materials before attempting this assignment is highly recommended."
   ]
  },
  {
   "cell_type": "markdown",
   "metadata": {},
   "source": [
    "*Run the following cell to create necessary subfolders for this assignment. You must **not** modify these codes and **must** run it first*."
   ]
  },
  {
   "cell_type": "code",
   "execution_count": 1,
   "metadata": {},
   "outputs": [],
   "source": [
    "# Create necessary subfolders to store immediate files for this assignment.\n",
    "\n",
    "import os\n",
    "if not os.path.exists(\"./models/dnn0\"):\n",
    "    os.makedirs(\"models/dnn0\")"
   ]
  },
  {
   "cell_type": "markdown",
   "metadata": {},
   "source": [
    "The first part of this assignment is to apply DNN to recognize letters from A-Z. You have played with MNIST dataset in your pracs and this should have given a good sense of how to apply DNN on images for recognition task. \n",
    "\n",
    "In this assignment, you are going to work with the **notMNIST** dataset for *letter recognition task*. The dataset contains 10 classes of letters A-J taken from different fonts. You will see some examples at the visualization task in the next part. A short blog about the data can be found [here](http://yaroslavvb.blogspot.com.au/2011/09/notmnist-dataset.html).\n",
    "\n",
    "Here we only consider a small subset which can be found at [this link](http://yaroslavvb.com/upload/notMNIST/notMNIST_small.mat). This file has been already downloaded and stored in subfolder `datasets` of this assignment folder. The file is in *Matlab* format, thus our first task is to:"
   ]
  },
  {
   "cell_type": "markdown",
   "metadata": {},
   "source": [
    "####  <span style=\"color:red\">**Question 1.1**</span>. Load the data into *`numpy array`* format of two variables:\n",
    "* *`x`*: storing features with dimension `[num_samples, width, height]` (`num_samples`: number of samples, `width`: image width, `height`: image height), and\n",
    "* *`y`*: storing labels with dimension `num_samples`. \n",
    "<div style=\"text-align: right\"><span style=\"color:red\">**[3 points]**</span></div>\n",
    "\n",
    "Enter the missing codes in the following cell to complete this question."
   ]
  },
  {
   "cell_type": "code",
   "execution_count": 3,
   "metadata": {},
   "outputs": [],
   "source": [
    "# YOU ARE REQUIRED TO INSERT YOUR CODES IN THIS CELL\n",
    "\n",
    "import numpy as np\n",
    "import scipy.io as sio\n",
    "data = sio.matlab.loadmat(\"datasets/notMNIST_small.mat\")"
   ]
  },
  {
   "cell_type": "code",
   "execution_count": 3,
   "metadata": {},
   "outputs": [
    {
     "data": {
      "text/plain": [
       "['__globals__', '__header__', '__version__', 'images', 'labels']"
      ]
     },
     "execution_count": 3,
     "metadata": {},
     "output_type": "execute_result"
    }
   ],
   "source": [
    "sorted(data.keys()) # get the keys"
   ]
  },
  {
   "cell_type": "code",
   "execution_count": 4,
   "metadata": {},
   "outputs": [
    {
     "data": {
      "text/plain": [
       "(18724,)"
      ]
     },
     "metadata": {},
     "output_type": "display_data"
    },
    {
     "data": {
      "text/plain": [
       "(18724, 28, 28)"
      ]
     },
     "metadata": {},
     "output_type": "display_data"
    }
   ],
   "source": [
    "x,y = data[\"images\"],data[\"labels\"]\n",
    "display(y.shape)\n",
    "x = np.rollaxis(x, axis=2)\n",
    "display(x.shape)"
   ]
  },
  {
   "cell_type": "markdown",
   "metadata": {},
   "source": [
    "####  <span style=\"color:red\">**Question 1.2**</span>. Print out the total number of data points, and the *unique* labels in this dataset.\n",
    "<div style=\"text-align: right\"><span style=\"color:red\">**[3 points]**</span></div> "
   ]
  },
  {
   "cell_type": "code",
   "execution_count": 5,
   "metadata": {},
   "outputs": [
    {
     "name": "stdout",
     "output_type": "stream",
     "text": [
      "total number of data points: 18724\n",
      "the unique labels in this dataset:\n",
      "[0. 1. 2. 3. 4. 5. 6. 7. 8. 9.]\n"
     ]
    }
   ],
   "source": [
    "#YOU ARE REQUIRED TO INSERT YOUR CODES IN THIS CELL\n",
    "print(f\"total number of data points: {len(y)}\")\n",
    "print(f\"the unique labels in this dataset:\")\n",
    "print(np.unique(y))"
   ]
  },
  {
   "cell_type": "markdown",
   "metadata": {},
   "source": [
    "####  <span style=\"color:red\">**Question 1.3**</span>. Display 100  images in the form of `10x10` matrix, each row showing 10 *random* images of a label. You might decide to use the function `display_images` provided at the beginning of this assignment, or you can write your own codes.\n",
    "<div style=\"text-align: right\"><span style=\"color:red\">**[4 points]**</span></div> "
   ]
  },
  {
   "cell_type": "code",
   "execution_count": 6,
   "metadata": {},
   "outputs": [],
   "source": [
    "# this function is a utility to display images from the dataset\n",
    "import numpy as np\n",
    "import matplotlib.pyplot as plt\n",
    "%matplotlib inline\n",
    "\n",
    "def display_images(images, shape):\n",
    "    fig = plt.figure(figsize=shape)\n",
    "    fig.subplots_adjust(left=0, right=1, bottom=0, top=1, hspace=0.05, wspace=0.05)\n",
    "    for i in range(np.prod(shape)):\n",
    "        p = fig.add_subplot(shape[0], shape[1], i+1, xticks=[], yticks=[])\n",
    "        p.imshow(images[i], cmap=plt.cm.bone)                "
   ]
  },
  {
   "cell_type": "code",
   "execution_count": 7,
   "metadata": {},
   "outputs": [
    {
     "data": {
      "image/png": "[encoded data removed]",
      "text/plain": [
       "<Figure size 720x720 with 100 Axes>"
      ]
     },
     "metadata": {},
     "output_type": "display_data"
    }
   ],
   "source": [
    "# YOU ARE REQUIRED TO INSERT YOUR CODES IN THIS CELL\n",
    "\n",
    "unique_labels = np.unique(y)\n",
    "images = []\n",
    "for l in unique_labels:    \n",
    "    idx = np.where(y == l)[0]\n",
    "    idx = idx[np.random.permutation(len(idx))[:10]] \n",
    "    for i in idx:\n",
    "        images += [x[i]]\n",
    "\n",
    "display_images(images,shape=(10, 10))"
   ]
  },
  {
   "cell_type": "markdown",
   "metadata": {},
   "source": [
    "####  <span style=\"color:red\">**Question 1.4**</span>. Use the *deep feedforward neural network* as the classifier to perform images classification task in a *single split training and testing*.\n",
    "\n",
    "The total marks for this question is <span style=\"color:red\">**[35 points]**</span>, with the following detailed breakdown sub-questions:"
   ]
  },
  {
   "cell_type": "markdown",
   "metadata": {},
   "source": [
    "<span style=\"color:red\">**(a)**</span> **Write your code to reshape the variable `x` storing features from `[num_samples, width, height]` dimension to `[num_samples, num_features]` with `num_features = width x height`. ** (*Hint*: you might want to use the `reshape()' function)\n",
    "<div style=\"text-align: right\"> <span style=\"color:red\">**[3 points]**</span> </div>"
   ]
  },
  {
   "cell_type": "code",
   "execution_count": 8,
   "metadata": {},
   "outputs": [],
   "source": [
    "# YOU ARE REQUIRED TO INSERT YOUR CODES IN THIS CELL\n",
    "# x = np.array([np.reshape(i,(28*28)) for i in x])\n",
    "x = np.reshape(x,(len(x),28*28))\n"
   ]
  },
  {
   "cell_type": "markdown",
   "metadata": {},
   "source": [
    "In training the DNN, scaling data is important. The pixel intensities of images are in the range of [0, 255], which makes the neural network difficult to learn."
   ]
  },
  {
   "cell_type": "markdown",
   "metadata": {},
   "source": [
    "**Rescale the input data into the range of [0, 1]**\n",
    "<div style=\"text-align: right\"> \n",
    "<span style=\"color:red\">**[2 points]**</span> </div>"
   ]
  },
  {
   "cell_type": "code",
   "execution_count": 9,
   "metadata": {
    "scrolled": true
   },
   "outputs": [],
   "source": [
    "# YOU ARE REQUIRED TO INSERT YOUR CODES IN THIS CELL\n",
    "# normalization required\n",
    "from sklearn import preprocessing\n",
    "\n",
    "# xn = preprocessing.normalize(x) nromalize does not the job -> fired!\n",
    "\n",
    "xn = preprocessing.MinMaxScaler().fit(x).transform(x)"
   ]
  },
  {
   "cell_type": "markdown",
   "metadata": {},
   "source": [
    "<span style=\"color:red\">**(b)**</span> **Split the data into two subsets: 70% for training and 30% for testing. Note that you must use [*Stratified-Shuffle-Split*](http://scikit-learn.org/stable/modules/generated/sklearn.model_selection.StratifiedShuffleSplit.html) to make sure training and testing are balanced and randomly shuffled before learning the model.**\n",
    "<div style=\"text-align: right\"> <span style=\"color:red\">**[5 points]**</span> </div>"
   ]
  },
  {
   "cell_type": "code",
   "execution_count": 10,
   "metadata": {},
   "outputs": [
    {
     "name": "stdout",
     "output_type": "stream",
     "text": [
      "13106 5618\n"
     ]
    }
   ],
   "source": [
    "# YOU ARE REQUIRED TO INSERT YOUR CODES IN THIS CELL\n",
    "from sklearn.model_selection import StratifiedShuffleSplit\n",
    "\n",
    "# prepare for splitting\n",
    "# I assume that in this exercise it is only to do it once\n",
    "ss = StratifiedShuffleSplit(n_splits=1, test_size=.3, random_state=1)\n",
    "\n",
    "#split and get test/train\n",
    "ss.get_n_splits(xn, y)\n",
    "for train_index, test_index in ss.split(xn, y):\n",
    "    xn_train, xn_test = xn[train_index], xn[test_index]\n",
    "    y_train, y_test = y[train_index], y[test_index]\n",
    "    print(len(y_train),len(y_test))"
   ]
  },
  {
   "cell_type": "markdown",
   "metadata": {},
   "source": [
    "<span style=\"color:red\">**(c)**</span> **Construct a deep feedforward neural network with the following architecture:**\n",
    "\n",
    "* An input layer followed by *two* hidden layers, each with *500* hidden units, and an *output* layer;\n",
    "* *ReLU* activations for neurons in each hidden layer;\n",
    "* Training with gradient descent optimizer with learning rate **0.0011**, batch size 128 and 50 epochs.\n",
    "\n",
    "(*Hint*: *this question heavily relies on the knowledge you've learned from lab session in week 5 and 6. You are encouraged to revise these materials for this question*)\n",
    "\n",
    "<div style=\"text-align: right\"> <span style=\"color:red\">**[20 points]**</span> </div>"
   ]
  },
  {
   "cell_type": "code",
   "execution_count": 11,
   "metadata": {},
   "outputs": [
    {
     "name": "stderr",
     "output_type": "stream",
     "text": [
      "C:\\Users\\gwehrm\\AppData\\Roaming\\Python\\Python36\\site-packages\\tensorflow\\python\\framework\\dtypes.py:516: FutureWarning: Passing (type, 1) or '1type' as a synonym of type is deprecated; in a future version of numpy, it will be understood as (type, (1,)) / '(1,)type'.\n",
      "  _np_qint8 = np.dtype([(\"qint8\", np.int8, 1)])\n",
      "C:\\Users\\gwehrm\\AppData\\Roaming\\Python\\Python36\\site-packages\\tensorflow\\python\\framework\\dtypes.py:517: FutureWarning: Passing (type, 1) or '1type' as a synonym of type is deprecated; in a future version of numpy, it will be understood as (type, (1,)) / '(1,)type'.\n",
      "  _np_quint8 = np.dtype([(\"quint8\", np.uint8, 1)])\n",
      "C:\\Users\\gwehrm\\AppData\\Roaming\\Python\\Python36\\site-packages\\tensorflow\\python\\framework\\dtypes.py:518: FutureWarning: Passing (type, 1) or '1type' as a synonym of type is deprecated; in a future version of numpy, it will be understood as (type, (1,)) / '(1,)type'.\n",
      "  _np_qint16 = np.dtype([(\"qint16\", np.int16, 1)])\n",
      "C:\\Users\\gwehrm\\AppData\\Roaming\\Python\\Python36\\site-packages\\tensorflow\\python\\framework\\dtypes.py:519: FutureWarning: Passing (type, 1) or '1type' as a synonym of type is deprecated; in a future version of numpy, it will be understood as (type, (1,)) / '(1,)type'.\n",
      "  _np_quint16 = np.dtype([(\"quint16\", np.uint16, 1)])\n",
      "C:\\Users\\gwehrm\\AppData\\Roaming\\Python\\Python36\\site-packages\\tensorflow\\python\\framework\\dtypes.py:520: FutureWarning: Passing (type, 1) or '1type' as a synonym of type is deprecated; in a future version of numpy, it will be understood as (type, (1,)) / '(1,)type'.\n",
      "  _np_qint32 = np.dtype([(\"qint32\", np.int32, 1)])\n",
      "C:\\Users\\gwehrm\\AppData\\Roaming\\Python\\Python36\\site-packages\\tensorflow\\python\\framework\\dtypes.py:525: FutureWarning: Passing (type, 1) or '1type' as a synonym of type is deprecated; in a future version of numpy, it will be understood as (type, (1,)) / '(1,)type'.\n",
      "  np_resource = np.dtype([(\"resource\", np.ubyte, 1)])\n",
      "C:\\ProgramData\\Anaconda3\\lib\\site-packages\\h5py\\__init__.py:36: FutureWarning: Conversion of the second argument of issubdtype from `float` to `np.floating` is deprecated. In future, it will be treated as `np.float64 == np.dtype(float).type`.\n",
      "  from ._conv import register_converters as _register_converters\n",
      "C:\\Users\\gwehrm\\AppData\\Roaming\\Python\\Python36\\site-packages\\tensorboard\\compat\\tensorflow_stub\\dtypes.py:541: FutureWarning: Passing (type, 1) or '1type' as a synonym of type is deprecated; in a future version of numpy, it will be understood as (type, (1,)) / '(1,)type'.\n",
      "  _np_qint8 = np.dtype([(\"qint8\", np.int8, 1)])\n",
      "C:\\Users\\gwehrm\\AppData\\Roaming\\Python\\Python36\\site-packages\\tensorboard\\compat\\tensorflow_stub\\dtypes.py:542: FutureWarning: Passing (type, 1) or '1type' as a synonym of type is deprecated; in a future version of numpy, it will be understood as (type, (1,)) / '(1,)type'.\n",
      "  _np_quint8 = np.dtype([(\"quint8\", np.uint8, 1)])\n",
      "C:\\Users\\gwehrm\\AppData\\Roaming\\Python\\Python36\\site-packages\\tensorboard\\compat\\tensorflow_stub\\dtypes.py:543: FutureWarning: Passing (type, 1) or '1type' as a synonym of type is deprecated; in a future version of numpy, it will be understood as (type, (1,)) / '(1,)type'.\n",
      "  _np_qint16 = np.dtype([(\"qint16\", np.int16, 1)])\n",
      "C:\\Users\\gwehrm\\AppData\\Roaming\\Python\\Python36\\site-packages\\tensorboard\\compat\\tensorflow_stub\\dtypes.py:544: FutureWarning: Passing (type, 1) or '1type' as a synonym of type is deprecated; in a future version of numpy, it will be understood as (type, (1,)) / '(1,)type'.\n",
      "  _np_quint16 = np.dtype([(\"quint16\", np.uint16, 1)])\n",
      "C:\\Users\\gwehrm\\AppData\\Roaming\\Python\\Python36\\site-packages\\tensorboard\\compat\\tensorflow_stub\\dtypes.py:545: FutureWarning: Passing (type, 1) or '1type' as a synonym of type is deprecated; in a future version of numpy, it will be understood as (type, (1,)) / '(1,)type'.\n",
      "  _np_qint32 = np.dtype([(\"qint32\", np.int32, 1)])\n",
      "C:\\Users\\gwehrm\\AppData\\Roaming\\Python\\Python36\\site-packages\\tensorboard\\compat\\tensorflow_stub\\dtypes.py:550: FutureWarning: Passing (type, 1) or '1type' as a synonym of type is deprecated; in a future version of numpy, it will be understood as (type, (1,)) / '(1,)type'.\n",
      "  np_resource = np.dtype([(\"resource\", np.ubyte, 1)])\n"
     ]
    }
   ],
   "source": [
    "# YOU ARE REQUIRED TO INSERT YOUR CODES IN THIS CELL [5 marks]\n",
    "\n",
    "import tensorflow as tf\n",
    "\n",
    "tf.reset_default_graph()\n",
    "\n",
    "num_inputs = 28*28\n",
    "num_hidden1 = 500\n",
    "num_hidden2 = 500\n",
    "num_outputs = len(np.unique(y))\n",
    "\n",
    "\n",
    "inputs = xn_train\n",
    "labels = y_train\n",
    "\n",
    "x = tf.placeholder(tf.float32, shape=[None, num_inputs], name=\"x\")\n",
    "y = tf.placeholder(tf.int32, shape=[None], name=\"y\")"
   ]
  },
  {
   "cell_type": "code",
   "execution_count": 12,
   "metadata": {},
   "outputs": [],
   "source": [
    "# YOU ARE REQUIRED TO INSERT YOUR CODES IN THIS CELL [3 marks]\n",
    "\n",
    "def neuron_layer(x, num_neurons, name, activation=None):\n",
    "    with tf.name_scope(name):\n",
    "        num_inputs = int(x.get_shape()[1])\n",
    "        stddev = 2 / np.sqrt(num_inputs)\n",
    "        init = tf.truncated_normal([num_inputs, num_neurons], stddev=stddev)\n",
    "        W = tf.Variable(init, name=\"weights\")\n",
    "        b = tf.Variable(tf.zeros([num_neurons]), name=\"biases\")\n",
    "        z = tf.matmul(x, W) + b\n",
    "    if activation == \"relu\":\n",
    "        return tf.nn.relu(z)\n",
    "    else:\n",
    "        return z\n",
    "    \n",
    "    "
   ]
  },
  {
   "cell_type": "code",
   "execution_count": 13,
   "metadata": {},
   "outputs": [],
   "source": [
    "# YOU ARE REQUIRED TO INSERT YOUR CODES IN THIS CELL [7 marks]\n",
    "learning_rate = 0.0011\n",
    "\n",
    "with tf.name_scope(\"dnn\"):\n",
    "    hidden1 = neuron_layer(x, num_hidden1, \"hidden1\", activation=\"relu\")\n",
    "    hidden2 = neuron_layer(hidden1, num_hidden2, \"hidden2\", activation=\"relu\")\n",
    "    logits = neuron_layer(hidden2, num_outputs, \"output\")\n",
    "\n",
    "    \n",
    "with tf.name_scope(\"loss\"):\n",
    "    xentropy = tf.nn.sparse_softmax_cross_entropy_with_logits(labels=y, logits=logits)\n",
    "    loss = tf.reduce_mean(xentropy, name=\"loss\")\n",
    "\n",
    "with tf.name_scope(\"train\"):\n",
    "    optimizer = tf.train.GradientDescentOptimizer(learning_rate)\n",
    "    grads = optimizer.compute_gradients(loss)    \n",
    "    training_op = optimizer.apply_gradients(grads)\n",
    "    \n",
    "    for var in tf.trainable_variables():\n",
    "        tf.summary.histogram(var.op.name + \"/values\", var)\n",
    "        \n",
    "    for grad, var in grads:\n",
    "        if grad is not None:\n",
    "            tf.summary.histogram(var.op.name + \"/gradients\", grad)\n",
    "\n",
    "with tf.name_scope(\"eval\"):\n",
    "    correct = tf.nn.in_top_k(logits, y, 1)\n",
    "    accuracy = tf.reduce_mean(tf.cast(correct, tf.float32))\n",
    "    \n",
    "# # summary\n",
    "accuracy_summary = tf.summary.scalar('accuracy', accuracy)\n"
   ]
  },
  {
   "cell_type": "code",
   "execution_count": 14,
   "metadata": {},
   "outputs": [],
   "source": [
    "# YOU ARE REQUIRED TO INSERT YOUR CODES IN THIS CELL [5 marks]\n",
    "\n",
    "# merge all summary\n",
    "tf.summary.histogram('hidden1/activations', hidden1)\n",
    "tf.summary.histogram('hidden2/activations', hidden2)\n",
    "\n",
    "merged = tf.summary.merge_all()\n",
    "\n",
    "init = tf.global_variables_initializer()\n",
    "saver = tf.train.Saver()\n",
    "\n",
    "train_writer = tf.summary.FileWriter(\"models/dnn0/train\", tf.get_default_graph())\n",
    "test_writer = tf.summary.FileWriter(\"models/dnn0/test\", tf.get_default_graph())\n",
    "\n",
    "num_epochs = 50\n",
    "batch_size = 128"
   ]
  },
  {
   "cell_type": "markdown",
   "metadata": {},
   "source": [
    "<span style=\"color:red\">**(d)**</span> **You are now required write code to train the DNN.** Write codes in the following cell. <span style=\"color:red\">**[5 points]**</span> </div>"
   ]
  },
  {
   "cell_type": "code",
   "execution_count": 15,
   "metadata": {},
   "outputs": [
    {
     "name": "stdout",
     "output_type": "stream",
     "text": [
      "Epoch\tTrain accuracy\tTest accuracy\n",
      "0\t0.5078125\t0.5112139582633972\n",
      "1\t0.703125\t0.6870772242546082\n",
      "2\t0.734375\t0.7572089433670044\n",
      "3\t0.796875\t0.7839088439941406\n",
      "4\t0.796875\t0.8013527989387512\n",
      "5\t0.8046875\t0.8141687512397766\n",
      "6\t0.84375\t0.8244926929473877\n",
      "7\t0.7578125\t0.8289426565170288\n",
      "8\t0.8125\t0.8330366611480713\n",
      "9\t0.859375\t0.8349946737289429\n",
      "10\t0.828125\t0.8444285988807678\n",
      "11\t0.8984375\t0.8431826233863831\n",
      "12\t0.8125\t0.8478106260299683\n",
      "13\t0.84375\t0.8513705730438232\n",
      "14\t0.8203125\t0.8524385690689087\n",
      "15\t0.8671875\t0.8547526001930237\n",
      "16\t0.90625\t0.8588465452194214\n",
      "17\t0.8671875\t0.8597365617752075\n",
      "18\t0.875\t0.861516535282135\n",
      "19\t0.90625\t0.8627625703811646\n",
      "20\t0.890625\t0.8661445379257202\n",
      "21\t0.875\t0.8670345544815063\n",
      "22\t0.9453125\t0.8691705465316772\n",
      "23\t0.90625\t0.8702385425567627\n",
      "24\t0.8515625\t0.86970454454422\n",
      "25\t0.8984375\t0.8707725405693054\n",
      "26\t0.8828125\t0.8714845180511475\n",
      "27\t0.8828125\t0.8718405365943909\n",
      "28\t0.84375\t0.8720185160636902\n",
      "29\t0.8671875\t0.8748664855957031\n",
      "30\t0.9453125\t0.8748664855957031\n",
      "31\t0.8671875\t0.8752225041389465\n",
      "32\t0.875\t0.8755785226821899\n",
      "33\t0.8828125\t0.8768244981765747\n",
      "34\t0.921875\t0.877002477645874\n",
      "35\t0.8984375\t0.8771805167198181\n",
      "36\t0.921875\t0.877002477645874\n",
      "37\t0.859375\t0.8771805167198181\n",
      "38\t0.9140625\t0.8780704736709595\n",
      "39\t0.859375\t0.8786044716835022\n",
      "40\t0.9140625\t0.8789604902267456\n",
      "41\t0.8671875\t0.8805624842643738\n",
      "42\t0.875\t0.8807404637336731\n",
      "43\t0.859375\t0.8807404637336731\n",
      "44\t0.875\t0.8810964822769165\n",
      "45\t0.8515625\t0.8819864988327026\n",
      "46\t0.9296875\t0.8825204968452454\n",
      "47\t0.9140625\t0.8826984763145447\n",
      "48\t0.8984375\t0.8832324743270874\n",
      "49\t0.9375\t0.8843004703521729\n"
     ]
    }
   ],
   "source": [
    "# YOU ARE REQUIRED TO INSERT YOUR CODES IN THIS CELL\n",
    "\n",
    "import random\n",
    "\n",
    "def next_batch(num, data, labels):\n",
    "    '''\n",
    "    Return a total of `num` random samples and labels. \n",
    "    '''\n",
    "    idx = np.arange(0 , len(data))\n",
    "    np.random.shuffle(idx)\n",
    "    idx = idx[:num]\n",
    "    data_shuffle = [data[ i] for i in idx]\n",
    "    labels_shuffle = [labels[ i] for i in idx]\n",
    "\n",
    "    return np.asarray(data_shuffle), np.asarray(labels_shuffle)\n",
    "\n",
    "\n",
    "\n",
    "\n",
    "with tf.Session() as sess:\n",
    "    init.run()\n",
    "    print(\"Epoch\\tTrain accuracy\\tTest accuracy\")\n",
    "    for epoch in range(num_epochs):\n",
    "        for iteration in range(inputs.shape[0] // batch_size):\n",
    "            x_batch, y_batch = next_batch(batch_size, inputs, labels)\n",
    "            sess.run(training_op, feed_dict={x: x_batch, y: y_batch})\n",
    "            \n",
    "        train_summary, acc_train = sess.run([merged, accuracy],\n",
    "                                             feed_dict={x: x_batch, y: y_batch})\n",
    "        \n",
    "        test_summary, acc_test = sess.run([accuracy_summary, accuracy],\n",
    "                                          feed_dict={x: xn_test, y: y_test})\n",
    "        \n",
    "        train_writer.add_summary(train_summary, epoch)\n",
    "        test_writer.add_summary(test_summary, epoch)\n",
    "\n",
    "        print(\"{}\\t{}\\t{}\".format(epoch, acc_train, acc_test))   \n",
    "        \n",
    "    save_path = saver.save(sess, \"models/articles/dnn_final.ckpt\")\n",
    "    \n",
    "train_writer.close()\n",
    "test_writer.close()"
   ]
  },
  {
   "cell_type": "markdown",
   "metadata": {},
   "source": [
    "---"
   ]
  },
  {
   "cell_type": "markdown",
   "metadata": {},
   "source": [
    "## <span style=\"color:#0b486b\">Part 2: Word2Vec, Text Analytics and Application</span>\n",
    "<div style=\"text-align: right\"><span style=\"color:red\">**[Total mark for this part: 35 points]**<span></div>\n",
    "\n",
    "\n",
    "In this part, you are going to use Word2Vec for document classification on [20 Newsgroups](http://www.cs.cmu.edu/afs/cs.cmu.edu/project/theo-20/www/data/news20.html) dataset. This dataset is a collection of messages collected from 20 different netnews newsgroups. One thousand messages from each of the twenty newsgroups were chosen at random and partitioned by newsgroup name. The list of newsgroups from which the messages were chosen is as follows:\n",
    "\n",
    "`\n",
    "alt.atheism\n",
    "talk.politics.guns\n",
    "talk.politics.mideast\n",
    "talk.politics.misc\n",
    "talk.religion.misc\n",
    "soc.religion.christian\n",
    "comp.sys.ibm.pc.hardware\n",
    "comp.graphics\n",
    "comp.os.ms-windows.misc\n",
    "comp.sys.mac.hardware\n",
    "comp.windows.x\n",
    "rec.autos\n",
    "rec.motorcycles\n",
    "rec.sport.baseball\n",
    "rec.sport.hockey\n",
    "sci.crypt\n",
    "sci.electronics\n",
    "sci.space\n",
    "sci.med\n",
    "misc.forsale\n",
    "`"
   ]
  },
  {
   "cell_type": "markdown",
   "metadata": {},
   "source": [
    "### <span style=\"color:#0b486b\"> Download the dataset and data pre-processing</span>\n",
    "\n",
    "####  <span style=\"color:red\">**Question 2.1**</span> Your first task is to run the following code to download the dataset.\n",
    "\n",
    "<div style=\"text-align: right\"><span style=\"color:red\">**[1 point]**</span></div> "
   ]
  },
  {
   "cell_type": "code",
   "execution_count": 1,
   "metadata": {},
   "outputs": [],
   "source": [
    "from sklearn.datasets import fetch_20newsgroups\n",
    "newsgroups_all = fetch_20newsgroups(subset='all', remove=('headers'))"
   ]
  },
  {
   "cell_type": "markdown",
   "metadata": {},
   "source": [
    "####  <span style=\"color:red\">**Question 2.2**</span>. Print out the total number of documents, and the *unique* labels in this dataset.\n",
    "<div style=\"text-align: right\"><span style=\"color:red\">**[1 point]**</span></div> "
   ]
  },
  {
   "cell_type": "code",
   "execution_count": 4,
   "metadata": {},
   "outputs": [
    {
     "name": "stdout",
     "output_type": "stream",
     "text": [
      "total number of documents: 18846\n",
      "unique labels: [ 0  1  2  3  4  5  6  7  8  9 10 11 12 13 14 15 16 17 18 19] \n",
      "and the corresponding names: ['alt.atheism', 'comp.graphics', 'comp.os.ms-windows.misc', 'comp.sys.ibm.pc.hardware', 'comp.sys.mac.hardware', 'comp.windows.x', 'misc.forsale', 'rec.autos', 'rec.motorcycles', 'rec.sport.baseball', 'rec.sport.hockey', 'sci.crypt', 'sci.electronics', 'sci.med', 'sci.space', 'soc.religion.christian', 'talk.politics.guns', 'talk.politics.mideast', 'talk.politics.misc', 'talk.religion.misc']\n"
     ]
    }
   ],
   "source": [
    "# YOU ARE REQUIRED TO INSERT YOUR CODES IN THIS CELL\n",
    "print(f\"total number of documents: {len(newsgroups_all.target)}\")\n",
    "print(f\"unique labels: {np.unique(newsgroups_all.target)} \\nand the corresponding names: {newsgroups_all.target_names}\")\n",
    "# print(newsgroups_all.target_names # unique labels "
   ]
  },
  {
   "cell_type": "markdown",
   "metadata": {},
   "source": [
    "####  <span style=\"color:red\">**Question 2.3**</span>. Convert the documents into a list of tokens using the function `gensim.utils.tokenize`.\n",
    "<div style=\"text-align: right\"><span style=\"color:red\">**[3 point]**</span></div>\n"
   ]
  },
  {
   "cell_type": "code",
   "execution_count": 5,
   "metadata": {
    "scrolled": true
   },
   "outputs": [],
   "source": [
    "import gensim\n",
    "\n",
    "#it is unclear whether text preprocessing should be done - Since limited resouces - I dont do it\n",
    "\n",
    "text = newsgroups_all.data\n",
    "  \n",
    "\n",
    "# YOU ARE REQUIRED TO INSERT YOUR CODES IN THIS CELL\n"
   ]
  },
  {
   "cell_type": "code",
   "execution_count": 6,
   "metadata": {},
   "outputs": [
    {
     "data": {
      "text/plain": [
       "['My',\n",
       " 'brother',\n",
       " 'is',\n",
       " 'in',\n",
       " 'the',\n",
       " 'market',\n",
       " 'for',\n",
       " 'a',\n",
       " 'high',\n",
       " 'performance',\n",
       " 'video',\n",
       " 'card',\n",
       " 'that',\n",
       " 'supports',\n",
       " 'VESA',\n",
       " 'local',\n",
       " 'bus',\n",
       " 'with',\n",
       " 'MB',\n",
       " 'RAM',\n",
       " 'Does',\n",
       " 'anyone',\n",
       " 'have',\n",
       " 'suggestions',\n",
       " 'ideas',\n",
       " 'on',\n",
       " 'Diamond',\n",
       " 'Stealth',\n",
       " 'Pro',\n",
       " 'Local',\n",
       " 'Bus',\n",
       " 'Orchid',\n",
       " 'Farenheit',\n",
       " 'ATI',\n",
       " 'Graphics',\n",
       " 'Ultra',\n",
       " 'Pro',\n",
       " 'Any',\n",
       " 'other',\n",
       " 'high',\n",
       " 'performance',\n",
       " 'VLB',\n",
       " 'card',\n",
       " 'Please',\n",
       " 'post',\n",
       " 'or',\n",
       " 'email',\n",
       " 'Thank',\n",
       " 'you',\n",
       " 'Matt',\n",
       " 'Matthew',\n",
       " 'B',\n",
       " 'Lawson',\n",
       " 'mblawson',\n",
       " 'essex',\n",
       " 'ecn',\n",
       " 'uoknor',\n",
       " 'edu',\n",
       " 'Now',\n",
       " 'I',\n",
       " 'Nebuchadnezzar',\n",
       " 'praise',\n",
       " 'and',\n",
       " 'exalt',\n",
       " 'and',\n",
       " 'glorify',\n",
       " 'the',\n",
       " 'King',\n",
       " 'of',\n",
       " 'heaven',\n",
       " 'because',\n",
       " 'everything',\n",
       " 'he',\n",
       " 'does',\n",
       " 'is',\n",
       " 'right',\n",
       " 'and',\n",
       " 'all',\n",
       " 'his',\n",
       " 'ways',\n",
       " 'are',\n",
       " 'just',\n",
       " 'Nebuchadnezzar',\n",
       " 'king',\n",
       " 'of',\n",
       " 'Babylon',\n",
       " 'B',\n",
       " 'C']"
      ]
     },
     "execution_count": 6,
     "metadata": {},
     "output_type": "execute_result"
    }
   ],
   "source": [
    "text_token = [list(gensim.utils.tokenize(article))for article in text]    \n",
    "text_token[1]"
   ]
  },
  {
   "cell_type": "markdown",
   "metadata": {},
   "source": [
    "### <span style=\"color:#0b486b\"> Train the model </span>\n",
    "\n",
    "\n",
    "####  <span style=\"color:red\">**Question 2.4**</span>. Train gensim's word2vec model.\n",
    "<div style=\"text-align: right\"><span style=\"color:red\">**[5 points]**</span></div>\n",
    "\n",
    "* Train gensim's word2vec model with the settings of:\n",
    "    * The dimensionality of the feature vectors: `size=100`,\n",
    "    * The maximum distance between the current and predicted word within a sentence: `window=5`,\n",
    "    * Minimum frequence (ignore all words with total frequency lower than this): `min_count=5`,\n"
   ]
  },
  {
   "cell_type": "code",
   "execution_count": 20,
   "metadata": {},
   "outputs": [],
   "source": [
    "from gensim.models import Word2Vec\n",
    "size_ = 100\n",
    "window_ = 5\n",
    "min_count_ = 5\n",
    "sg_ = 1 # use skip gram - since more useful for big datasets/longer texts\n",
    "# YOU ARE REQUIRED TO INSERT YOUR CODES IN THIS CELL\n",
    "model = Word2Vec(text_token, sg = sg_, size = size_, window = window_, min_count = min_count_)"
   ]
  },
  {
   "cell_type": "markdown",
   "metadata": {},
   "source": [
    "* Save the trained model to a file named \"20_newsgroups.gensim\""
   ]
  },
  {
   "cell_type": "code",
   "execution_count": 7,
   "metadata": {},
   "outputs": [],
   "source": [
    "# YOU ARE REQUIRED TO INSERT YOUR CODES IN THIS CELL\n",
    "# where to save the model learned\n",
    "model_file = ('models/20_newsgroups')\n",
    "  \n",
    "# save the model learned into model file\n",
    "model.save(model_file)\n",
    "                 "
   ]
  },
  {
   "cell_type": "markdown",
   "metadata": {},
   "source": [
    "####  <span style=\"color:red\">**Question 2.5**</span>. Print out the vocabulary size (number of words in vocabulary).\n",
    "<div style=\"text-align: right\"><span style=\"color:red\">**[2 points]**</span></div> "
   ]
  },
  {
   "cell_type": "code",
   "execution_count": 8,
   "metadata": {},
   "outputs": [
    {
     "name": "stderr",
     "output_type": "stream",
     "text": [
      "C:\\ProgramData\\Anaconda3\\lib\\site-packages\\smart_open\\smart_open_lib.py:398: UserWarning: This function is deprecated, use smart_open.open instead. See the migration notes for details: https://github.com/RaRe-Technologies/smart_open/blob/master/README.rst#migrating-to-the-new-open-function\n",
      "  'See the migration notes for details: %s' % _MIGRATION_NOTES_URL\n"
     ]
    }
   ],
   "source": [
    "from gensim.models import Word2Vec\n",
    "model = Word2Vec.load(model_file)"
   ]
  },
  {
   "cell_type": "code",
   "execution_count": 9,
   "metadata": {},
   "outputs": [
    {
     "name": "stdout",
     "output_type": "stream",
     "text": [
      "42461\n"
     ]
    }
   ],
   "source": [
    "# YOU ARE REQUIRED TO INSERT YOUR CODES IN THIS CELL\n",
    "print(len(model.wv.vocab))"
   ]
  },
  {
   "cell_type": "markdown",
   "metadata": {},
   "source": [
    "####  <span style=\"color:red\">**Question 2.6**</span>. Using the embedding results, calculate and print out the ten most similar words to word 'law' and their corresponding similarity scores.<div style=\"text-align: right\"><span style=\"color:red\">**[3 points]**</span></div> "
   ]
  },
  {
   "cell_type": "code",
   "execution_count": 25,
   "metadata": {},
   "outputs": [
    {
     "data": {
      "text/plain": [
       "[('enforcement', 0.8310947418212891),\n",
       " ('laws', 0.7068904638290405),\n",
       " ('federal', 0.6862479448318481),\n",
       " ('abiding', 0.6855697631835938),\n",
       " ('jurisdiction', 0.6804254055023193),\n",
       " ('fasad', 0.6727216839790344),\n",
       " ('rulings', 0.6652292609214783),\n",
       " ('giveth', 0.6600708961486816),\n",
       " ('pitted', 0.6567065715789795),\n",
       " ('court', 0.6546409130096436)]"
      ]
     },
     "execution_count": 25,
     "metadata": {},
     "output_type": "execute_result"
    }
   ],
   "source": [
    "# YOU ARE REQUIRED TO INSERT YOUR CODES IN THIS CELL\n",
    "model.wv.most_similar(positive='law',topn=10)"
   ]
  },
  {
   "cell_type": "markdown",
   "metadata": {},
   "source": [
    "### <span style=\"color:#0b486b\"> Evaluate the embeddings using classification </span>\n",
    "\n",
    "Now we investigate the quality of embedded vectors via document classification task. We have learned the embeddings for words, but not for documents yet, thus we need to find a way to extract the document embeddings from word embeddings. We are going to try two approaches:\n",
    "* Taking the **sum** of vectors of all words in the document; or\n",
    "* Taking the **average** of vectors of all words in the document.\n",
    "\n",
    "####  <span style=\"color:red\">**Question 2.7**</span>. Extract document vectors using `sum`.\n",
    "<div style=\"text-align: right\"><span style=\"color:red\">**[5 points]**</span></div> \n",
    "\n",
    "* Remove all ***empty*** documents. A document is empty if it does not contain any word in the vocabulary;\n",
    "* Extract document vectors and save to variable `x`;\n",
    "* Save the corresponding labels to variable `y`."
   ]
  },
  {
   "cell_type": "code",
   "execution_count": 10,
   "metadata": {},
   "outputs": [
    {
     "name": "stderr",
     "output_type": "stream",
     "text": [
      "C:\\ProgramData\\Anaconda3\\lib\\site-packages\\ipykernel_launcher.py:4: DeprecationWarning: Call to deprecated `__contains__` (Method will be removed in 4.0.0, use self.wv.__contains__() instead).\n",
      "  after removing the cwd from sys.path.\n",
      "C:\\ProgramData\\Anaconda3\\lib\\site-packages\\ipykernel_launcher.py:4: DeprecationWarning: Call to deprecated `__getitem__` (Method will be removed in 4.0.0, use self.wv.__getitem__() instead).\n",
      "  after removing the cwd from sys.path.\n"
     ]
    }
   ],
   "source": [
    "# YOU ARE REQUIRED TO INSERT YOUR CODES IN THIS CELL\n",
    "\n",
    "def extract_doc2vec(doc, w2v):\n",
    "    vecs = [w2v[word] for word in doc if word in w2v]\n",
    "    if len(vecs) > 0:\n",
    "        vecs = np.asarray(vecs).sum(axis=0)\n",
    "    return vecs\n",
    "\n",
    "# # INSERT YOUR CODE HERE\n",
    "x = [extract_doc2vec(article, model) for article in text_token]  \n",
    "\n",
    "# get the index for the empty ones\n",
    "empty = []\n",
    "for index, i in enumerate(x):\n",
    "    if len(i)==0:\n",
    "        empty.append(index)\n",
    "\n",
    "# remove the empty ones   \n",
    "x = np.delete(x, empty, 0)\n",
    "y = np.delete(newsgroups_all.target, empty, 0)\n",
    "\n"
   ]
  },
  {
   "cell_type": "code",
   "execution_count": 14,
   "metadata": {},
   "outputs": [
    {
     "data": {
      "text/plain": [
       "37"
      ]
     },
     "metadata": {},
     "output_type": "display_data"
    }
   ],
   "source": [
    "display(len(empty))"
   ]
  },
  {
   "cell_type": "markdown",
   "metadata": {},
   "source": [
    "####  <span style=\"color:red\">**Question 2.8**</span>. Print out the number of documents retained after removing empty documents.\n",
    "<div style=\"text-align: right\"><span style=\"color:red\">**[1 point]**</span></div> "
   ]
  },
  {
   "cell_type": "code",
   "execution_count": 12,
   "metadata": {
    "scrolled": true
   },
   "outputs": [
    {
     "name": "stdout",
     "output_type": "stream",
     "text": [
      "length of documents:\t\t18809\n",
      "length of corresponding labels:\t18809\n"
     ]
    }
   ],
   "source": [
    "# YOU ARE REQUIRED TO INSERT YOUR CODES IN THIS CELL\n",
    "print(f\"length of documents:\\t\\t{len(x)}\")\n",
    "print(f\"length of corresponding labels:\\t{len(y)}\")"
   ]
  },
  {
   "cell_type": "markdown",
   "metadata": {},
   "source": [
    "#### <span style=\"color:red\">**Question 2.9**</span>. Split the data into two subsets: 70% for training and 30% for testing. Note that you must use [*Stratified-Shuffle-Split*](http://scikit-learn.org/stable/modules/generated/sklearn.model_selection.StratifiedShuffleSplit.html) to make sure training and testing are balanced and randomly shuffled before learning the model.\n",
    "<div style=\"text-align: right\"> <span style=\"color:red\">**[2 points]**</span> </div>"
   ]
  },
  {
   "cell_type": "code",
   "execution_count": 34,
   "metadata": {},
   "outputs": [],
   "source": [
    "# YOU ARE REQUIRED TO INSERT YOUR CODES IN THIS CELL\n",
    "from sklearn.model_selection import StratifiedShuffleSplit\n",
    "\n",
    "sss = StratifiedShuffleSplit(n_splits=1, test_size=0.3, random_state=1)\n",
    "sss.get_n_splits(x, y)\n",
    "\n",
    "\n",
    "for train_index, test_index in sss.split(x, y):\n",
    "    x_train, x_test = x[train_index], x[test_index]\n",
    "    y_train, y_test = y[train_index], y[test_index]"
   ]
  },
  {
   "cell_type": "code",
   "execution_count": 35,
   "metadata": {},
   "outputs": [],
   "source": [
    "x_train = [i for i in x_train]\n",
    "x_test = [i for i in x_test]"
   ]
  },
  {
   "cell_type": "markdown",
   "metadata": {},
   "source": [
    "#### <span style=\"color:red\">**Question 2.10**</span>. **Use [Logistic Regression](http://scikit-learn.org/stable/modules/generated/sklearn.linear_model.LogisticRegression.html) as the classifier, train and test the model using the training and test datasets from the previous step. Report the training accuracy and testing accuracy.**\n",
    "<div style=\"text-align: right\"> <span style=\"color:red\">**[2 points]**</span> </div>"
   ]
  },
  {
   "cell_type": "code",
   "execution_count": 36,
   "metadata": {},
   "outputs": [
    {
     "name": "stdout",
     "output_type": "stream",
     "text": [
      "train accuracy: 0.711529697706213\\ test accuracy: 0.6730462519936204\n"
     ]
    }
   ],
   "source": [
    "# YOU ARE REQUIRED TO INSERT YOUR CODES IN THIS CELL\n",
    "from sklearn.linear_model import LogisticRegression\n",
    "from sklearn.metrics import accuracy_score\n",
    "\n",
    "\n",
    "# fit the regression\n",
    "fit_log = LogisticRegression().fit(x_train,y_train)\n",
    "\n",
    "\n",
    "# predict on test data\n",
    "\n",
    "# print the classification report\n",
    "prediction_test = fit_log.predict(x_test)\n",
    "prediction_train = fit_log.predict(x_train)\n",
    "acc_test = accuracy_score(y_test, prediction_test)\n",
    "acc_train = accuracy_score(y_train, prediction_train)\n",
    "\n",
    "print(f\"train accuracy: {acc_train}\\ test accuracy: {acc_test}\")"
   ]
  },
  {
   "cell_type": "markdown",
   "metadata": {},
   "source": [
    "####  <span style=\"color:red\">**Question 2.11**</span>. Now modify the `extract_doc2vec` function above to  extract document vectors using `average`, instead of `sum`, and repeat the experiment: split the data, train and test using Logistic Regression.\n",
    "<div style=\"text-align: right\"><span style=\"color:red\">**[5 points]**</span></div> "
   ]
  },
  {
   "cell_type": "code",
   "execution_count": 37,
   "metadata": {},
   "outputs": [
    {
     "name": "stderr",
     "output_type": "stream",
     "text": [
      "C:\\ProgramData\\Anaconda3\\lib\\site-packages\\ipykernel_launcher.py:3: DeprecationWarning: Call to deprecated `__contains__` (Method will be removed in 4.0.0, use self.wv.__contains__() instead).\n",
      "  This is separate from the ipykernel package so we can avoid doing imports until\n",
      "C:\\ProgramData\\Anaconda3\\lib\\site-packages\\ipykernel_launcher.py:3: DeprecationWarning: Call to deprecated `__getitem__` (Method will be removed in 4.0.0, use self.wv.__getitem__() instead).\n",
      "  This is separate from the ipykernel package so we can avoid doing imports until\n"
     ]
    },
    {
     "name": "stdout",
     "output_type": "stream",
     "text": [
      "train accuracy: 0.7040862828497646\\ test accuracy: 0.684033315612263\n"
     ]
    }
   ],
   "source": [
    "# YOU ARE REQUIRED TO INSERT YOUR CODES IN THIS CELL\n",
    "def extract_doc2vec_avg(doc, w2v):\n",
    "    vecs = [w2v[word] for word in doc if word in w2v]\n",
    "    if len(vecs) > 0:\n",
    "        vecs = np.asarray(vecs).mean(axis=0)\n",
    "    return vecs\n",
    "\n",
    "# # INSERT YOUR CODE HERE\n",
    "x = [extract_doc2vec_avg(article, model) for article in text_token]  \n",
    "\n",
    "# get the index for the empty ones\n",
    "empty = []\n",
    "for index, i in enumerate(x):\n",
    "    if len(i)==0:\n",
    "        empty.append(index)\n",
    "\n",
    "# remove the empty ones   \n",
    "x = np.delete(x, empty, 0)\n",
    "y = np.delete(newsgroups_all.target, empty, 0)\n",
    "\n",
    "from sklearn.model_selection import StratifiedShuffleSplit\n",
    "\n",
    "sss = StratifiedShuffleSplit(n_splits=1, test_size=0.3, random_state=0)\n",
    "sss.get_n_splits(x, y)\n",
    "\n",
    "\n",
    "for train_index, test_index in sss.split(x, y):\n",
    "    x_train, x_test = x[train_index], x[test_index]\n",
    "    y_train, y_test = y[train_index], y[test_index]\n",
    "    \n",
    "x_train = [i for i in x_train]\n",
    "x_test = [i for i in x_test]\n",
    "\n",
    "# YOU ARE REQUIRED TO INSERT YOUR CODES IN THIS CELL\n",
    "from sklearn.linear_model import LogisticRegression\n",
    "from sklearn.metrics import accuracy_score\n",
    "\n",
    "\n",
    "# fit the regression\n",
    "fit_log = LogisticRegression().fit(x_train,y_train)\n",
    "\n",
    "\n",
    "# predict on test data\n",
    "\n",
    "# print the classification report\n",
    "prediction_test = fit_log.predict(x_test)\n",
    "prediction_train = fit_log.predict(x_train)\n",
    "acc_test = accuracy_score(y_test, prediction_test)\n",
    "acc_train = accuracy_score(y_train, prediction_train)\n",
    "\n",
    "print(f\"train accuracy: {acc_train}\\ test accuracy: {acc_test}\")"
   ]
  },
  {
   "cell_type": "markdown",
   "metadata": {},
   "source": [
    "####  <span style=\"color:red\">**Question 2.12**</span>. Which representation (sum or average doc vector) gives the best performance? Write your observations and any lessons learned.\n",
    "<div style=\"text-align: right\"><span style=\"color:red\">**[5 points]**</span></div> \n"
   ]
  },
  {
   "cell_type": "markdown",
   "metadata": {},
   "source": [
    "My results are pretty similar. I have a train accuracy for sum of 0.711 an for average of 0.704. A small difference occurs also in the test accuracy. For the sum, the accuracy is 0.673 and for the average 0.684. A small difference, but still a significant one. \n",
    "\n",
    "The average does give a better performance. It has a higher test accuracy and the difference between train and test is not as big as with the sum. So it is more reliable.\n",
    "\n",
    "A reason for a difference could be that with the sum, the length of the text plays a role. In the case that sports articles about baseball are all extremely long, the classifier would recognise this text quite good, but not based on the text itself, but more with the characteristic \"length\".\n",
    "\n",
    "If the length of texts are nearly equal across the topics, then it shoudn't differ. The average might give mor consistent accuracy. however, if there a different lengths which are also somehow connected to the topics, then this could explain parts of the difference in classification.  "
   ]
  },
  {
   "cell_type": "markdown",
   "metadata": {},
   "source": [
    "--- \n",
    "<div style=\"text-align: center\"> <span style=\"color:black\">**END OF ASSIGNMENT**</span> </div>"
   ]
  }
 ],
 "metadata": {
  "kernelspec": {
   "display_name": "Python 3",
   "language": "python",
   "name": "python3"
  },
  "language_info": {
   "codemirror_mode": {
    "name": "ipython",
    "version": 3
   },
   "file_extension": ".py",
   "mimetype": "text/x-python",
   "name": "python",
   "nbconvert_exporter": "python",
   "pygments_lexer": "ipython3",
   "version": "3.6.5"
  }
 },
 "nbformat": 4,
 "nbformat_minor": 4
}
